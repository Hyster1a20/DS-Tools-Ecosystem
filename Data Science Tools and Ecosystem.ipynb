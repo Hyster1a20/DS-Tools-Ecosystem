{
 "cells": [
  {
   "cell_type": "code",
   "execution_count": null,
   "id": "205bf8a4",
   "metadata": {},
   "outputs": [],
   "source": [
    "# Data Science  Tools and Ecosystem" 
   ]
  },
  {
   "cell_type": "code",
   "execution_count": null,
   "id": "ce52b821",
   "metadata": {},
   "outputs": [],
   "source": [
    "Data Science Tools and Ecosystem are summarized"
   ]
  },
  {
   "cell_type": "code",
   "execution_count": null,
   "id": "dfd942e8",
   "metadata": {},
   "outputs": [],
   "source": [
    "**Objectives:**\n",
    "\n",
    "- List popular languages for Data Science.\n",
    "- Highlight commonly used libraries by Data Scientists.\n",
    "- Demonstrate basic arithmetic operations in Python.\n",
    "- Convert minutes to hours using Python expressions.\n",
    "- Create and format Markdown content in Jupyter Notebook.\n"
   ]
  },
  {
   "cell_type": "code",
   "execution_count": null,
   "id": "6fbf1100",
   "metadata": {},
   "outputs": [],
   "source": [
    "**Some of the popular languages that Data Scientists use are**\n",
    "- Python\n",
    "- R\n",
    "- SQL\n",
    "- Julia\n",
    "- Scala"
   ]
  },
  {
   "cell_type": "code",
   "execution_count": null,
   "id": "81efdf93",
   "metadata": {},
   "outputs": [],
   "source": [
    "**Some of the commonly used libraries used by Data Scientists include**\n",
    "- NumPy\n",
    "- Pandas\n",
    "- TensoreFlow\n",
    "- SciPy"
   ]
  },
  {
   "cell_type": "code",
   "execution_count": null,
   "id": "84fdc89a",
   "metadata": {},
   "outputs": [],
   "source": [
    "|  Data Science Tools   |\n",
    "|-----------------------|\n",
    "| Jupyter Notebook      |\n",
    "| RStudio               |\n",
    "| Visual Studio Code    |\n"
   ]
  },
  {
   "cell_type": "code",
   "execution_count": null,
   "id": "42a092a0",
   "metadata": {},
   "outputs": [],
   "source": [
    "### Below are a few examples of evaluating arithmetic expressions in Python.\n",
    "a = 5 + 3\n",
    "print(a)\n",
    "b = 10 - 4\n",
    "print(b) \n",
    "c = 15 % 7\n",
    "print(c)"
   ]
  },
  {
   "cell_type": "code",
   "execution_count": 20,
   "id": "d35ffc91",
   "metadata": {},
   "outputs": [
    {
     "data": {
      "text/plain": [
       "17"
      ]
     },
     "execution_count": 20,
     "metadata": {},
     "output_type": "execute_result"
    }
   ],
   "source": [
    "# This is a simple arithmetic expression to multiply then add integers:\n",
    "x = (3 * 4) + 5\n",
    "x"
   ]
  },
  {
   "cell_type": "code",
   "execution_count": 18,
   "id": "7b3ba4f7",
   "metadata": {},
   "outputs": [
    {
     "data": {
      "text/plain": [
       "3.3333333333333335"
      ]
     },
     "execution_count": 18,
     "metadata": {},
     "output_type": "execute_result"
    }
   ],
   "source": [
    "# convert 200 minutes to hours by dividing by 60.\n",
    "minutes = 200\n",
    "hours = minutes / 60\n",
    "hours"
   ]
  },
  {
   "cell_type": "code",
   "execution_count": null,
   "id": "1e3214bf",
   "metadata": {},
   "outputs": [],
   "source": [
    "## Author\n",
    "SAAD\n"
   ]
  },
  {
   "cell_type": "code",
   "execution_count": null,
   "id": "54bbbb16",
   "metadata": {},
   "outputs": [],
   "source": []
  }
 ],
 "metadata": {
  "kernelspec": {
   "display_name": "Python 3 (ipykernel)",
   "language": "python",
   "name": "python3"
  },
  "language_info": {
   "codemirror_mode": {
    "name": "ipython",
    "version": 3
   },
   "file_extension": ".py",
   "mimetype": "text/x-python",
   "name": "python",
   "nbconvert_exporter": "python",
   "pygments_lexer": "ipython3",
   "version": "3.11.4"
  }
 },
 "nbformat": 4,
 "nbformat_minor": 5
}
